{
 "cells": [
  {
   "cell_type": "code",
   "execution_count": 14,
   "id": "431bb80a",
   "metadata": {},
   "outputs": [],
   "source": [
    "import numpy as np\n",
    "import pandas as pd\n",
    "import matplotlib.pyplot as plt\n",
    "import seaborn as sns\n",
    "import warnings\n",
    "import joblib\n",
    "\n",
    "\n",
    "warnings.simplefilter('ignore')\n",
    "np.random.seed(42)"
   ]
  },
  {
   "cell_type": "code",
   "execution_count": 25,
   "id": "8db9c3c6",
   "metadata": {},
   "outputs": [
    {
     "data": {
      "text/html": [
       "<div>\n",
       "<style scoped>\n",
       "    .dataframe tbody tr th:only-of-type {\n",
       "        vertical-align: middle;\n",
       "    }\n",
       "\n",
       "    .dataframe tbody tr th {\n",
       "        vertical-align: top;\n",
       "    }\n",
       "\n",
       "    .dataframe thead th {\n",
       "        text-align: right;\n",
       "    }\n",
       "</style>\n",
       "<table border=\"1\" class=\"dataframe\">\n",
       "  <thead>\n",
       "    <tr style=\"text-align: right;\">\n",
       "      <th></th>\n",
       "      <th>age</th>\n",
       "      <th>bmi</th>\n",
       "      <th>weight</th>\n",
       "      <th>ventilated_apache</th>\n",
       "      <th>arf_apache</th>\n",
       "      <th>d1_wbc_max</th>\n",
       "      <th>d1_creatinine_min</th>\n",
       "      <th>d1_glucose_max</th>\n",
       "      <th>diabetes_mellitus</th>\n",
       "    </tr>\n",
       "  </thead>\n",
       "  <tbody>\n",
       "    <tr>\n",
       "      <th>0</th>\n",
       "      <td>68.0</td>\n",
       "      <td>22.732803</td>\n",
       "      <td>73.9</td>\n",
       "      <td>0</td>\n",
       "      <td>0</td>\n",
       "      <td>14.1</td>\n",
       "      <td>2.23</td>\n",
       "      <td>168.0</td>\n",
       "      <td>1</td>\n",
       "    </tr>\n",
       "    <tr>\n",
       "      <th>1</th>\n",
       "      <td>77.0</td>\n",
       "      <td>27.421875</td>\n",
       "      <td>70.2</td>\n",
       "      <td>1</td>\n",
       "      <td>0</td>\n",
       "      <td>23.3</td>\n",
       "      <td>0.56</td>\n",
       "      <td>145.0</td>\n",
       "      <td>1</td>\n",
       "    </tr>\n",
       "    <tr>\n",
       "      <th>2</th>\n",
       "      <td>25.0</td>\n",
       "      <td>31.952749</td>\n",
       "      <td>95.3</td>\n",
       "      <td>0</td>\n",
       "      <td>0</td>\n",
       "      <td>NaN</td>\n",
       "      <td>NaN</td>\n",
       "      <td>NaN</td>\n",
       "      <td>0</td>\n",
       "    </tr>\n",
       "    <tr>\n",
       "      <th>3</th>\n",
       "      <td>81.0</td>\n",
       "      <td>22.635548</td>\n",
       "      <td>61.7</td>\n",
       "      <td>1</td>\n",
       "      <td>0</td>\n",
       "      <td>9.0</td>\n",
       "      <td>NaN</td>\n",
       "      <td>185.0</td>\n",
       "      <td>0</td>\n",
       "    </tr>\n",
       "    <tr>\n",
       "      <th>4</th>\n",
       "      <td>19.0</td>\n",
       "      <td>NaN</td>\n",
       "      <td>NaN</td>\n",
       "      <td>0</td>\n",
       "      <td>0</td>\n",
       "      <td>NaN</td>\n",
       "      <td>NaN</td>\n",
       "      <td>NaN</td>\n",
       "      <td>0</td>\n",
       "    </tr>\n",
       "  </tbody>\n",
       "</table>\n",
       "</div>"
      ],
      "text/plain": [
       "    age        bmi  weight  ventilated_apache  arf_apache  d1_wbc_max  \\\n",
       "0  68.0  22.732803    73.9                  0           0        14.1   \n",
       "1  77.0  27.421875    70.2                  1           0        23.3   \n",
       "2  25.0  31.952749    95.3                  0           0         NaN   \n",
       "3  81.0  22.635548    61.7                  1           0         9.0   \n",
       "4  19.0        NaN     NaN                  0           0         NaN   \n",
       "\n",
       "   d1_creatinine_min  d1_glucose_max  diabetes_mellitus  \n",
       "0               2.23           168.0                  1  \n",
       "1               0.56           145.0                  1  \n",
       "2                NaN             NaN                  0  \n",
       "3                NaN           185.0                  0  \n",
       "4                NaN             NaN                  0  "
      ]
     },
     "execution_count": 25,
     "metadata": {},
     "output_type": "execute_result"
    }
   ],
   "source": [
    "ds=pd.read_csv(\"Trainingset.csv\")\n",
    "new_ds = ds.filter(['age','bmi','weight','glucose_apache''d1_glucose_min','ventilated_apache','arf_apache','d1_wbc_max','d1_creatinine_min','d1_glucose_max','diabetes_mellitus'])\n",
    "new_ds.head()\n"
   ]
  },
  {
   "cell_type": "code",
   "execution_count": 16,
   "id": "f9caec35",
   "metadata": {},
   "outputs": [],
   "source": [
    "from sklearn.impute import SimpleImputer\n",
    "imputer=SimpleImputer(strategy='median')\n",
    "imputer.fit(new_ds)\n",
    "newds=imputer.transform(new_ds)\n",
    "newds=pd.DataFrame(newds)"
   ]
  },
  {
   "cell_type": "code",
   "execution_count": 17,
   "id": "1ce6fe1a",
   "metadata": {},
   "outputs": [
    {
     "data": {
      "text/html": [
       "<div>\n",
       "<style scoped>\n",
       "    .dataframe tbody tr th:only-of-type {\n",
       "        vertical-align: middle;\n",
       "    }\n",
       "\n",
       "    .dataframe tbody tr th {\n",
       "        vertical-align: top;\n",
       "    }\n",
       "\n",
       "    .dataframe thead th {\n",
       "        text-align: right;\n",
       "    }\n",
       "</style>\n",
       "<table border=\"1\" class=\"dataframe\">\n",
       "  <thead>\n",
       "    <tr style=\"text-align: right;\">\n",
       "      <th></th>\n",
       "      <th>age</th>\n",
       "      <th>bmi</th>\n",
       "      <th>weight</th>\n",
       "      <th>d1_wbc_max</th>\n",
       "      <th>d1_creatinine_min</th>\n",
       "      <th>d1_glucose_max</th>\n",
       "      <th>diabetes_mellitus</th>\n",
       "    </tr>\n",
       "  </thead>\n",
       "  <tbody>\n",
       "    <tr>\n",
       "      <th>0</th>\n",
       "      <td>68.0</td>\n",
       "      <td>22.732803</td>\n",
       "      <td>73.9</td>\n",
       "      <td>14.1</td>\n",
       "      <td>2.23</td>\n",
       "      <td>168.0</td>\n",
       "      <td>1.0</td>\n",
       "    </tr>\n",
       "    <tr>\n",
       "      <th>1</th>\n",
       "      <td>77.0</td>\n",
       "      <td>27.421875</td>\n",
       "      <td>70.2</td>\n",
       "      <td>23.3</td>\n",
       "      <td>0.56</td>\n",
       "      <td>145.0</td>\n",
       "      <td>1.0</td>\n",
       "    </tr>\n",
       "    <tr>\n",
       "      <th>2</th>\n",
       "      <td>25.0</td>\n",
       "      <td>31.952749</td>\n",
       "      <td>95.3</td>\n",
       "      <td>11.1</td>\n",
       "      <td>0.94</td>\n",
       "      <td>150.0</td>\n",
       "      <td>0.0</td>\n",
       "    </tr>\n",
       "    <tr>\n",
       "      <th>3</th>\n",
       "      <td>81.0</td>\n",
       "      <td>22.635548</td>\n",
       "      <td>61.7</td>\n",
       "      <td>9.0</td>\n",
       "      <td>0.94</td>\n",
       "      <td>185.0</td>\n",
       "      <td>0.0</td>\n",
       "    </tr>\n",
       "    <tr>\n",
       "      <th>4</th>\n",
       "      <td>19.0</td>\n",
       "      <td>27.564749</td>\n",
       "      <td>80.0</td>\n",
       "      <td>11.1</td>\n",
       "      <td>0.94</td>\n",
       "      <td>150.0</td>\n",
       "      <td>0.0</td>\n",
       "    </tr>\n",
       "  </tbody>\n",
       "</table>\n",
       "</div>"
      ],
      "text/plain": [
       "    age        bmi  weight  d1_wbc_max  d1_creatinine_min  d1_glucose_max  \\\n",
       "0  68.0  22.732803    73.9        14.1               2.23           168.0   \n",
       "1  77.0  27.421875    70.2        23.3               0.56           145.0   \n",
       "2  25.0  31.952749    95.3        11.1               0.94           150.0   \n",
       "3  81.0  22.635548    61.7         9.0               0.94           185.0   \n",
       "4  19.0  27.564749    80.0        11.1               0.94           150.0   \n",
       "\n",
       "   diabetes_mellitus  \n",
       "0                1.0  \n",
       "1                1.0  \n",
       "2                0.0  \n",
       "3                0.0  \n",
       "4                0.0  "
      ]
     },
     "execution_count": 17,
     "metadata": {},
     "output_type": "execute_result"
    }
   ],
   "source": [
    "newds.columns=new_ds.columns\n",
    "newds.head()"
   ]
  },
  {
   "cell_type": "code",
   "execution_count": 18,
   "id": "36eec5b8",
   "metadata": {},
   "outputs": [],
   "source": [
    "x=newds.drop(['diabetes_mellitus'],axis=1)\n",
    "y=newds.diabetes_mellitus\n",
    "from sklearn.model_selection import train_test_split\n",
    "x_train, x_test, y_train, y_test = train_test_split(x, y, test_size = 0.2, random_state=42)"
   ]
  },
  {
   "cell_type": "code",
   "execution_count": 6,
   "id": "c753870d",
   "metadata": {},
   "outputs": [
    {
     "name": "stdout",
     "output_type": "stream",
     "text": [
      "Requirement already satisfied: imblearn in c:\\users\\stclabs\\anaconda3\\lib\\site-packages (0.0)Note: you may need to restart the kernel to use updated packages.\n",
      "Requirement already satisfied: imbalanced-learn in c:\\users\\stclabs\\anaconda3\\lib\\site-packages (from imblearn) (0.9.1)\n",
      "Requirement already satisfied: joblib>=1.0.0 in c:\\users\\stclabs\\anaconda3\\lib\\site-packages (from imbalanced-learn->imblearn) (1.1.0)\n",
      "Requirement already satisfied: scikit-learn>=1.1.0 in c:\\users\\stclabs\\anaconda3\\lib\\site-packages (from imbalanced-learn->imblearn) (1.1.1)\n",
      "Requirement already satisfied: scipy>=1.3.2 in c:\\users\\stclabs\\anaconda3\\lib\\site-packages (from imbalanced-learn->imblearn) (1.7.3)\n",
      "Requirement already satisfied: numpy>=1.17.3 in c:\\users\\stclabs\\anaconda3\\lib\\site-packages (from imbalanced-learn->imblearn) (1.21.5)\n",
      "Requirement already satisfied: threadpoolctl>=2.0.0 in c:\\users\\stclabs\\anaconda3\\lib\\site-packages (from imbalanced-learn->imblearn) (2.2.0)\n",
      "\n"
     ]
    }
   ],
   "source": [
    "pip install imblearn\n"
   ]
  },
  {
   "cell_type": "code",
   "execution_count": 19,
   "id": "1678ae6e",
   "metadata": {},
   "outputs": [],
   "source": [
    "from imblearn.over_sampling import RandomOverSampler"
   ]
  },
  {
   "cell_type": "code",
   "execution_count": 20,
   "id": "82ee16af",
   "metadata": {},
   "outputs": [
    {
     "name": "stdout",
     "output_type": "stream",
     "text": [
      "Original dataset shape 0.0    81618\n",
      "1.0    22507\n",
      "Name: diabetes_mellitus, dtype: int64\n",
      "Resample dataset shape 1.0    102006\n",
      "0.0    102006\n",
      "Name: diabetes_mellitus, dtype: int64\n"
     ]
    }
   ],
   "source": [
    "ros = RandomOverSampler(random_state=42)\n",
    "\n",
    "# fit predictor and target variable\n",
    "x_ros, y_ros = ros.fit_resample(x, y)\n",
    "\n",
    "print('Original dataset shape', y_train.value_counts())\n",
    "print('Resample dataset shape', y_ros.value_counts())"
   ]
  },
  {
   "cell_type": "code",
   "execution_count": 21,
   "id": "a27bebeb",
   "metadata": {},
   "outputs": [],
   "source": [
    "from sklearn.ensemble import RandomForestClassifier\n",
    "from sklearn.metrics import accuracy_score\n",
    "from sklearn.model_selection import train_test_split\n",
    "X_train,X_test,Y_train,Y_test=train_test_split(x_ros, y_ros,test_size=0.2,random_state=42)\n",
    "rf = RandomForestClassifier()\n",
    "model=rf.fit(X_train, Y_train)\n",
    "y_pred = model.predict(X_test)\n",
    "accuracy = accuracy_score(Y_test,y_pred)\n"
   ]
  },
  {
   "cell_type": "code",
   "execution_count": 22,
   "id": "7f7b7ec1",
   "metadata": {},
   "outputs": [
    {
     "name": "stdout",
     "output_type": "stream",
     "text": [
      "0.918314829791927\n"
     ]
    }
   ],
   "source": [
    "print(accuracy)"
   ]
  },
  {
   "cell_type": "code",
   "execution_count": 24,
   "id": "88a1e945",
   "metadata": {},
   "outputs": [
    {
     "name": "stdout",
     "output_type": "stream",
     "text": [
      "[1.]\n"
     ]
    }
   ],
   "source": [
    "\n",
    "print(rf.predict([[68.0,22.732803,73.9,14.1,2.23,168.0]]))"
   ]
  },
  {
   "cell_type": "code",
   "execution_count": 11,
   "id": "21015556",
   "metadata": {},
   "outputs": [
    {
     "data": {
      "text/plain": [
       "age                  0.116447\n",
       "bmi                  0.152987\n",
       "weight               0.133500\n",
       "ventilated_apache    0.013999\n",
       "arf_apache           0.008712\n",
       "d1_wbc_max           0.118929\n",
       "d1_creatinine_min    0.125265\n",
       "d1_glucose_max       0.330162\n",
       "dtype: float64"
      ]
     },
     "execution_count": 11,
     "metadata": {},
     "output_type": "execute_result"
    }
   ],
   "source": [
    "f_s=pd.Series(model.feature_importances_,index=x_ros.columns)\n",
    "f_s"
   ]
  },
  {
   "cell_type": "code",
   "execution_count": null,
   "id": "687c5ae3",
   "metadata": {},
   "outputs": [],
   "source": []
  }
 ],
 "metadata": {
  "kernelspec": {
   "display_name": "Python 3 (ipykernel)",
   "language": "python",
   "name": "python3"
  },
  "language_info": {
   "codemirror_mode": {
    "name": "ipython",
    "version": 3
   },
   "file_extension": ".py",
   "mimetype": "text/x-python",
   "name": "python",
   "nbconvert_exporter": "python",
   "pygments_lexer": "ipython3",
   "version": "3.9.12"
  }
 },
 "nbformat": 4,
 "nbformat_minor": 5
}
